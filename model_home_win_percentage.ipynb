{
 "cells": [
  {
   "cell_type": "markdown",
   "metadata": {},
   "source": [
    "# Model: Home Win Percentage"
   ]
  },
  {
   "cell_type": "raw",
   "metadata": {},
   "source": [
    "In this module, we are going to create a Machine Learning module that will:\n",
    "1) parse a csv file into a pandas Dataframe\n",
    "2) drop unnecessary columns\n",
    "3) shuffle the Dataframe\n",
    "4) extract the input columns and the target columns\n",
    "5) scaling (preprocessing) the inputs, so that they get standardized\n",
    "6) split the dataset in three samples: the training data (80%), the validation data (10%) and the testing data (10%)\n",
    "7) from each split dataset, we are going to identify their inputs and targets\n",
    "8) from these split dataset we are going to create numpy objects, so that they can be fed into the ML model\n",
    "9) create a 5 hidden layer model\n",
    "10) Run and test the model"
   ]
  },
  {
   "cell_type": "code",
   "execution_count": 30,
   "metadata": {},
   "outputs": [],
   "source": [
    "import tensorflow as tf\n",
    "import numpy as np\n",
    "import pandas as pd\n",
    "import matplotlib.pyplot as plt\n",
    "from sklearn.utils import shuffle\n",
    "from sklearn import preprocessing\n",
    "from tensorflow.keras.models import Sequential\n",
    "from tensorflow.keras.layers import Dense, Activation"
   ]
  },
  {
   "cell_type": "code",
   "execution_count": 52,
   "metadata": {},
   "outputs": [],
   "source": [
    "filtered_matches = pd.read_csv('V_FILTERED_MATCH_DATA_AND_ODDS.csv', sep=';')\n",
    "\n",
    "filtered_matches.drop('match_id', axis=1, inplace=True)\n",
    "filtered_matches.drop('avg_draw_chance', axis=1, inplace=True)\n",
    "filtered_matches.drop('avg_away_chance', axis=1, inplace=True)\n",
    "\n",
    "match_data = shuffle(filtered_matches)\n",
    "\n",
    "inputs = match_data.iloc[:,:-1]\n",
    "targets = match_data.iloc[:,[-1]]\n",
    "\n",
    "match_data.iloc[:,:-1] = preprocessing.scale(inputs)\n",
    "\n",
    "\n",
    "train_data, validation_data, test_data = np.split(match_data, [int(.8 * len(match_data)), int(.9 * len(match_data))])\n",
    "\n",
    "train_data_inputs, train_data_targets = train_data.iloc[:,:-1], train_data.iloc[:,[-1]]\n",
    "validation_data_inputs, validation_data_targets = validation_data.iloc[:,:-1], validation_data.iloc[:,[-1]]\n",
    "test_data_inputs, test_data_targets = test_data.iloc[:,:-1], test_data.iloc[:,[-1]]\n",
    "\n"
   ]
  },
  {
   "cell_type": "code",
   "execution_count": 62,
   "metadata": {},
   "outputs": [],
   "source": [
    "# determine the maximum number of epochs\n",
    "NUM_EPOCHS = 10"
   ]
  },
  {
   "cell_type": "code",
   "execution_count": 56,
   "metadata": {},
   "outputs": [],
   "source": [
    "np_train_data = train_data.to_numpy()\n",
    "np_val_inputs = validation_data_inputs.to_numpy()\n",
    "np_val_targets = validation_data_targets.to_numpy()"
   ]
  },
  {
   "cell_type": "code",
   "execution_count": 81,
   "metadata": {},
   "outputs": [],
   "source": [
    "##56 inputs\n",
    "#1 output\n",
    "input_size = 56\n",
    "output_size = 1\n",
    "\n",
    "hidden_layer_size = 50\n",
    "\n",
    "model = Sequential([\n",
    "            Dense(hidden_layer_size, input_shape=(56,)),\n",
    "            \n",
    "            Dense(hidden_layer_size, activation='tanh'), # 1st hidden layer\n",
    "            Dense(hidden_layer_size, activation='relu'), # 2nd hidden layer\n",
    "            Dense(hidden_layer_size, activation='relu'), # 3rd hidden layer\n",
    "            Dense(hidden_layer_size, activation='relu'), # 4th hidden layer\n",
    "            Dense(hidden_layer_size, activation='tanh'), # 5th hidden layer\n",
    "    \n",
    "            Dense(output_size, activation='sigmoid') # output layer\n",
    "])\n"
   ]
  },
  {
   "cell_type": "code",
   "execution_count": 82,
   "metadata": {},
   "outputs": [],
   "source": [
    "model.compile(optimizer='adam', loss='mean_absolute_error', metrics=['mean_absolute_error'])"
   ]
  },
  {
   "cell_type": "code",
   "execution_count": 83,
   "metadata": {
    "scrolled": true
   },
   "outputs": [
    {
     "name": "stdout",
     "output_type": "stream",
     "text": [
      "WARNING:tensorflow:Falling back from v2 loop because of error: Failed to find data adapter that can handle input: <class 'pandas.core.frame.DataFrame'>, <class 'NoneType'>\n",
      "Train on 11622 samples, validate on 1453 samples\n",
      "Epoch 1/10\n",
      "11622/11622 - 3s - loss: 0.0706 - mean_absolute_error: 0.0706 - val_loss: 0.0621 - val_mean_absolute_error: 0.0621\n",
      "Epoch 2/10\n",
      "11622/11622 - 3s - loss: 0.0629 - mean_absolute_error: 0.0629 - val_loss: 0.0626 - val_mean_absolute_error: 0.0626\n",
      "Epoch 3/10\n",
      "11622/11622 - 5s - loss: 0.0615 - mean_absolute_error: 0.0615 - val_loss: 0.0652 - val_mean_absolute_error: 0.0652\n",
      "Epoch 4/10\n",
      "11622/11622 - 6s - loss: 0.0604 - mean_absolute_error: 0.0604 - val_loss: 0.0609 - val_mean_absolute_error: 0.0609\n",
      "Epoch 5/10\n",
      "11622/11622 - 5s - loss: 0.0599 - mean_absolute_error: 0.0599 - val_loss: 0.0594 - val_mean_absolute_error: 0.0594\n",
      "Epoch 6/10\n",
      "11622/11622 - 6s - loss: 0.0596 - mean_absolute_error: 0.0596 - val_loss: 0.0596 - val_mean_absolute_error: 0.0596\n",
      "Epoch 7/10\n",
      "11622/11622 - 5s - loss: 0.0588 - mean_absolute_error: 0.0588 - val_loss: 0.0602 - val_mean_absolute_error: 0.0602\n",
      "Epoch 8/10\n",
      "11622/11622 - 4s - loss: 0.0582 - mean_absolute_error: 0.0582 - val_loss: 0.0591 - val_mean_absolute_error: 0.0591\n",
      "Epoch 9/10\n",
      "11622/11622 - 4s - loss: 0.0581 - mean_absolute_error: 0.0581 - val_loss: 0.0603 - val_mean_absolute_error: 0.0603\n",
      "Epoch 10/10\n",
      "11622/11622 - 4s - loss: 0.0577 - mean_absolute_error: 0.0577 - val_loss: 0.0592 - val_mean_absolute_error: 0.0592\n"
     ]
    },
    {
     "data": {
      "text/plain": [
       "<tensorflow.python.keras.callbacks.History at 0x2188d2b6888>"
      ]
     },
     "execution_count": 83,
     "metadata": {},
     "output_type": "execute_result"
    }
   ],
   "source": [
    "model.fit(x=train_data_inputs, y=train_data_targets, epochs=NUM_EPOCHS, validation_data=(np_val_inputs, np_val_targets), \n",
    "          validation_steps=len(np_val_inputs), verbose=2)"
   ]
  },
  {
   "cell_type": "code",
   "execution_count": 85,
   "metadata": {
    "collapsed": true
   },
   "outputs": [
    {
     "name": "stdout",
     "output_type": "stream",
     "text": [
      "Weights: [[ 0.10206466  0.21830001  0.0898657  ...  0.03890531  0.01779376\n",
      "  -0.19366246]\n",
      " [ 0.25049007  0.03871264 -0.22089934 ... -0.10277379 -0.08752891\n",
      "   0.00952068]\n",
      " [ 0.13230602 -0.23210098  0.24776262 ...  0.18382853 -0.0822441\n",
      "   0.09625279]\n",
      " ...\n",
      " [-0.15147911  0.21984723 -0.0954643  ... -0.17499673 -0.1731663\n",
      "   0.21045342]\n",
      " [ 0.02381097 -0.06595867  0.4001905  ... -0.01576135  0.19751753\n",
      "   0.13592038]\n",
      " [-0.1356036  -0.08161564  0.02012036 ... -0.26615858  0.22189014\n",
      "   0.05646576]] \n",
      "Bias: [ 1.01760402e-01 -1.65853411e-01 -4.87331785e-02 -3.48317474e-02\n",
      "  1.58734843e-01  1.10200480e-01  2.88222879e-02  4.10243459e-02\n",
      "  1.52023628e-01 -6.80497140e-02  1.74816176e-02 -9.38425213e-02\n",
      "  1.05227314e-01 -2.41516177e-02  1.19439829e-02 -4.16721702e-02\n",
      "  2.07457989e-02 -9.10397619e-02  1.17443413e-01 -2.56718118e-02\n",
      "  1.42743103e-02  4.26617963e-03 -8.87356773e-02  2.99004675e-03\n",
      "  2.97746975e-02  3.09709553e-02 -1.53843313e-01 -9.66278836e-02\n",
      " -1.57938397e-03 -1.38874049e-03 -1.79906815e-01  8.00155476e-02\n",
      "  7.73949176e-03  6.53521297e-03  4.04581055e-02 -4.02633585e-02\n",
      "  1.54396109e-02  3.17320153e-02  8.53401199e-02 -9.19159800e-02\n",
      " -5.06545492e-02 -1.59589306e-01 -7.70107806e-02  1.00937426e-01\n",
      " -5.20926602e-02 -2.92994771e-02  1.01862192e-01 -6.03825320e-05\n",
      " -2.60777604e-02 -1.90380285e-03]\n"
     ]
    }
   ],
   "source": [
    "weights = model.layers[0].get_weights()[0]\n",
    "bias = model.layers[0].get_weights()[1]\n",
    "print('Weights:',weights,'\\nBias:',bias)"
   ]
  },
  {
   "cell_type": "code",
   "execution_count": 86,
   "metadata": {},
   "outputs": [
    {
     "name": "stdout",
     "output_type": "stream",
     "text": [
      "WARNING:tensorflow:Falling back from v2 loop because of error: Failed to find data adapter that can handle input: <class 'pandas.core.frame.DataFrame'>, <class 'NoneType'>\n",
      "1453/1453 - 0s - loss: 0.0592 - mean_absolute_error: 0.0592\n"
     ]
    },
    {
     "data": {
      "text/plain": [
       "[0.059178140937400044, 0.05917814]"
      ]
     },
     "execution_count": 86,
     "metadata": {},
     "output_type": "execute_result"
    }
   ],
   "source": [
    "model.evaluate(x=test_data_inputs, y=test_data_targets, verbose=2)"
   ]
  }
 ],
 "metadata": {
  "kernelspec": {
   "display_name": "Python 3",
   "language": "python",
   "name": "python3"
  },
  "language_info": {
   "codemirror_mode": {
    "name": "ipython",
    "version": 3
   },
   "file_extension": ".py",
   "mimetype": "text/x-python",
   "name": "python",
   "nbconvert_exporter": "python",
   "pygments_lexer": "ipython3",
   "version": "3.7.6"
  }
 },
 "nbformat": 4,
 "nbformat_minor": 4
}
