{
 "cells": [
  {
   "cell_type": "markdown",
   "metadata": {},
   "source": [
    "# Model: Home Percentage"
   ]
  },
  {
   "cell_type": "raw",
   "metadata": {},
   "source": [
    "In this module, we are going to create a Machine Learning module that will:\n",
    "1) parse a csv file into a pandas Dataframe\n",
    "2) drop unnecessary columns\n",
    "3) shuffle the Dataframe\n",
    "4) extract the input columns and the target columns\n",
    "5) scaling (preprocessing) the inputs, so that they get standardized\n",
    "6) split the dataset in three samples: the training data (80%), the validation data (10%) and the testing data (10%)\n",
    "7) from each split dataset, we are going to identify their inputs and targets\n",
    "8) from these split dataset we are going to create numpy objects, so that they can be fed into the ML model\n",
    "9) create a 5 hidden layer model\n",
    "10) Run and test the model"
   ]
  },
  {
   "cell_type": "code",
   "execution_count": 1,
   "metadata": {},
   "outputs": [],
   "source": [
    "import tensorflow as tf\n",
    "import numpy as np\n",
    "import pandas as pd\n",
    "import matplotlib.pyplot as plt\n",
    "from sklearn.utils import shuffle\n",
    "from sklearn import preprocessing\n",
    "from tensorflow.keras.models import Sequential\n",
    "from tensorflow.keras.layers import Dense, Activation"
   ]
  },
  {
   "cell_type": "code",
   "execution_count": 2,
   "metadata": {},
   "outputs": [],
   "source": [
    "filtered_matches = pd.read_csv('V_MATCH_DATA_AND_ODDS.csv', sep=';')\n",
    "\n",
    "filtered_matches.drop('match_id', axis=1, inplace=True)\n",
    "filtered_matches.drop('avg_draw_chance', axis=1, inplace=True)\n",
    "filtered_matches.drop('avg_away_chance', axis=1, inplace=True)\n",
    "\n",
    "match_data = shuffle(filtered_matches)\n",
    "\n",
    "inputs = match_data.iloc[:,:-1]\n",
    "targets = match_data.iloc[:,[-1]]\n",
    "\n",
    "match_data.iloc[:,:-1] = preprocessing.scale(inputs)\n",
    "\n",
    "\n",
    "train_data, validation_data, test_data = np.split(match_data, [int(.8 * len(match_data)), int(.9 * len(match_data))])\n",
    "\n",
    "train_data_inputs, train_data_targets = train_data.iloc[:,:-1], train_data.iloc[:,[-1]]\n",
    "validation_data_inputs, validation_data_targets = validation_data.iloc[:,:-1], validation_data.iloc[:,[-1]]\n",
    "test_data_inputs, test_data_targets = test_data.iloc[:,:-1], test_data.iloc[:,[-1]]\n",
    "\n"
   ]
  },
  {
   "cell_type": "code",
   "execution_count": 3,
   "metadata": {},
   "outputs": [],
   "source": [
    "# determine the maximum number of epochs\n",
    "NUM_EPOCHS = 10"
   ]
  },
  {
   "cell_type": "code",
   "execution_count": 4,
   "metadata": {},
   "outputs": [],
   "source": [
    "np_train_data = train_data.to_numpy()\n",
    "np_val_inputs = validation_data_inputs.to_numpy()\n",
    "np_val_targets = validation_data_targets.to_numpy()"
   ]
  },
  {
   "cell_type": "code",
   "execution_count": 5,
   "metadata": {},
   "outputs": [],
   "source": [
    "##56 inputs\n",
    "#1 output\n",
    "input_size = 56\n",
    "output_size = 1\n",
    "\n",
    "hidden_layer_size = 50\n",
    "\n",
    "model = Sequential([\n",
    "            Dense(hidden_layer_size, input_shape=(56,)),\n",
    "            \n",
    "            Dense(hidden_layer_size, activation='tanh'), # 1st hidden layer\n",
    "            Dense(hidden_layer_size, activation='relu'), # 2nd hidden layer\n",
    "            Dense(hidden_layer_size, activation='relu'), # 3rd hidden layer\n",
    "            Dense(hidden_layer_size, activation='relu'), # 4th hidden layer\n",
    "            Dense(hidden_layer_size, activation='tanh'), # 5th hidden layer\n",
    "    \n",
    "            Dense(output_size, activation='sigmoid') # output layer\n",
    "])\n"
   ]
  },
  {
   "cell_type": "code",
   "execution_count": 6,
   "metadata": {},
   "outputs": [],
   "source": [
    "model.compile(optimizer='adam', loss='mean_absolute_error', metrics=['mean_absolute_error'])"
   ]
  },
  {
   "cell_type": "code",
   "execution_count": 7,
   "metadata": {
    "scrolled": true
   },
   "outputs": [
    {
     "name": "stdout",
     "output_type": "stream",
     "text": [
      "WARNING:tensorflow:Falling back from v2 loop because of error: Failed to find data adapter that can handle input: <class 'pandas.core.frame.DataFrame'>, <class 'NoneType'>\n",
      "Train on 17834 samples, validate on 2229 samples\n",
      "Epoch 1/10\n",
      "17834/17834 - 9s - loss: 0.0693 - mean_absolute_error: 0.0693 - val_loss: 0.0703 - val_mean_absolute_error: 0.0703\n",
      "Epoch 2/10\n",
      "17834/17834 - 7s - loss: 0.0636 - mean_absolute_error: 0.0636 - val_loss: 0.0653 - val_mean_absolute_error: 0.0653\n",
      "Epoch 3/10\n",
      "17834/17834 - 7s - loss: 0.0627 - mean_absolute_error: 0.0627 - val_loss: 0.0640 - val_mean_absolute_error: 0.0640\n",
      "Epoch 4/10\n",
      "17834/17834 - 7s - loss: 0.0617 - mean_absolute_error: 0.0617 - val_loss: 0.0620 - val_mean_absolute_error: 0.0620\n",
      "Epoch 5/10\n",
      "17834/17834 - 8s - loss: 0.0615 - mean_absolute_error: 0.0615 - val_loss: 0.0621 - val_mean_absolute_error: 0.0621\n",
      "Epoch 6/10\n",
      "17834/17834 - 8s - loss: 0.0610 - mean_absolute_error: 0.0610 - val_loss: 0.0652 - val_mean_absolute_error: 0.0652\n",
      "Epoch 7/10\n",
      "17834/17834 - 8s - loss: 0.0607 - mean_absolute_error: 0.0607 - val_loss: 0.0617 - val_mean_absolute_error: 0.0617\n",
      "Epoch 8/10\n",
      "17834/17834 - 8s - loss: 0.0602 - mean_absolute_error: 0.0602 - val_loss: 0.0613 - val_mean_absolute_error: 0.0613\n",
      "Epoch 9/10\n",
      "17834/17834 - 8s - loss: 0.0599 - mean_absolute_error: 0.0599 - val_loss: 0.0628 - val_mean_absolute_error: 0.0628\n",
      "Epoch 10/10\n",
      "17834/17834 - 9s - loss: 0.0597 - mean_absolute_error: 0.0597 - val_loss: 0.0639 - val_mean_absolute_error: 0.0639\n"
     ]
    },
    {
     "data": {
      "text/plain": [
       "<tensorflow.python.keras.callbacks.History at 0x2345f7cb688>"
      ]
     },
     "execution_count": 7,
     "metadata": {},
     "output_type": "execute_result"
    }
   ],
   "source": [
    "model.fit(x=train_data_inputs, y=train_data_targets, epochs=NUM_EPOCHS, validation_data=(np_val_inputs, np_val_targets), \n",
    "          validation_steps=len(np_val_inputs), verbose=2)"
   ]
  },
  {
   "cell_type": "code",
   "execution_count": 8,
   "metadata": {
    "collapsed": true
   },
   "outputs": [
    {
     "name": "stdout",
     "output_type": "stream",
     "text": [
      "Weights: [[-0.21996641  0.11627667  0.11595031 ...  0.12832798 -0.28834695\n",
      "   0.15553707]\n",
      " [ 0.10679084 -0.13966583  0.13365592 ...  0.06349149 -0.1411187\n",
      "  -0.1074095 ]\n",
      " [-0.1119759   0.02808411 -0.12869304 ... -0.17122754 -0.18191028\n",
      "   0.09573498]\n",
      " ...\n",
      " [ 0.03947723 -0.20779364 -0.03335626 ... -0.22651953  0.13973345\n",
      "   0.18269868]\n",
      " [ 0.09513097 -0.2500962  -0.02996685 ... -0.19513454  0.16070208\n",
      "   0.49649084]\n",
      " [ 0.31121954 -0.11309698  0.09626629 ... -0.08522611  0.08487654\n",
      "   0.2166311 ]] \n",
      "Bias: [ 0.05671831  0.24692705 -0.06788044 -0.11486588 -0.07205781  0.00717139\n",
      "  0.00952448 -0.06020162  0.19003627 -0.04663411 -0.1226982  -0.1119312\n",
      " -0.04275553  0.08923396 -0.08954637  0.0037681   0.01397459  0.1996133\n",
      "  0.10394748 -0.05582986  0.13814144  0.02066846 -0.06135906  0.1669729\n",
      " -0.05693385  0.00606518 -0.20967059  0.03453903  0.02741701  0.16466492\n",
      "  0.09356448  0.08241426  0.0948251  -0.13242082 -0.10233413 -0.04765001\n",
      "  0.00237435 -0.01711112 -0.1237902  -0.12403596 -0.07466675  0.15912986\n",
      "  0.08364002 -0.06688431  0.02128958 -0.02323568 -0.19599134  0.12033141\n",
      "  0.13536228  0.05580608]\n"
     ]
    }
   ],
   "source": [
    "weights = model.layers[0].get_weights()[0]\n",
    "bias = model.layers[0].get_weights()[1]\n",
    "print('Weights:',weights,'\\nBias:',bias)"
   ]
  },
  {
   "cell_type": "code",
   "execution_count": 9,
   "metadata": {
    "scrolled": true
   },
   "outputs": [
    {
     "name": "stdout",
     "output_type": "stream",
     "text": [
      "WARNING:tensorflow:Falling back from v2 loop because of error: Failed to find data adapter that can handle input: <class 'pandas.core.frame.DataFrame'>, <class 'NoneType'>\n",
      "2230/2230 - 0s - loss: 0.0622 - mean_absolute_error: 0.0622\n"
     ]
    },
    {
     "data": {
      "text/plain": [
       "[0.06217353489968274, 0.062173538]"
      ]
     },
     "execution_count": 9,
     "metadata": {},
     "output_type": "execute_result"
    }
   ],
   "source": [
    "model.evaluate(x=test_data_inputs, y=test_data_targets, verbose=2)"
   ]
  },
  {
   "cell_type": "code",
   "execution_count": null,
   "metadata": {},
   "outputs": [],
   "source": []
  }
 ],
 "metadata": {
  "kernelspec": {
   "display_name": "Python 3",
   "language": "python",
   "name": "python3"
  },
  "language_info": {
   "codemirror_mode": {
    "name": "ipython",
    "version": 3
   },
   "file_extension": ".py",
   "mimetype": "text/x-python",
   "name": "python",
   "nbconvert_exporter": "python",
   "pygments_lexer": "ipython3",
   "version": "3.7.6"
  }
 },
 "nbformat": 4,
 "nbformat_minor": 4
}
