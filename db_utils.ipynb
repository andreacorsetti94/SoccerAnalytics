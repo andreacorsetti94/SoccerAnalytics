{
 "cells": [
  {
   "cell_type": "markdown",
   "metadata": {},
   "source": [
    "# DB Utils Module\n",
    "\n",
    "This module is useful to perform database operations without the need to handle cursors, multiple cursors, etc..\n",
    "It's possible to perform selects using the query() method, and inserts/updates/deletes/ with the write() method"
   ]
  },
  {
   "cell_type": "code",
   "execution_count": 1,
   "metadata": {},
   "outputs": [],
   "source": [
    "import sqlite3\n",
    "from sqlite3 import Error\n",
    "from contextlib import closing"
   ]
  },
  {
   "cell_type": "code",
   "execution_count": 2,
   "metadata": {},
   "outputs": [],
   "source": [
    "def query(db_name, sql, data):\n",
    "    with closing(sqlite3.connect(db_name)) as con, con,  \\\n",
    "            closing(con.cursor()) as cur:\n",
    "        cur.execute(sql,data)\n",
    "        return cur.fetchall()"
   ]
  },
  {
   "cell_type": "code",
   "execution_count": 3,
   "metadata": {},
   "outputs": [],
   "source": [
    "def write(db_name, sql, data):\n",
    "    with closing(sqlite3.connect(db_name)) as con, con,  \\\n",
    "            closing(con.cursor()) as cur:\n",
    "        cur.execute(sql,data)"
   ]
  }
 ],
 "metadata": {
  "kernelspec": {
   "display_name": "Python 3",
   "language": "python",
   "name": "python3"
  },
  "language_info": {
   "codemirror_mode": {
    "name": "ipython",
    "version": 3
   },
   "file_extension": ".py",
   "mimetype": "text/x-python",
   "name": "python",
   "nbconvert_exporter": "python",
   "pygments_lexer": "ipython3",
   "version": "3.7.6"
  }
 },
 "nbformat": 4,
 "nbformat_minor": 4
}
