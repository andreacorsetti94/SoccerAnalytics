{
 "cells": [
  {
   "cell_type": "markdown",
   "metadata": {},
   "source": [
    "# Model: Away Win Percentage"
   ]
  },
  {
   "cell_type": "raw",
   "metadata": {},
   "source": [
    "In this module, we are going to create a Machine Learning module that will:\n",
    "1) parse a csv file into a pandas Dataframe\n",
    "2) drop unnecessary columns\n",
    "3) shuffle the Dataframe\n",
    "4) extract the input columns and the target columns\n",
    "5) scaling (preprocessing) the inputs, so that they get standardized\n",
    "6) split the dataset in three samples: the training data (80%), the validation data (10%) and the testing data (10%)\n",
    "7) from each split dataset, we are going to identify their inputs and targets\n",
    "8) from these split dataset we are going to create numpy objects, so that they can be fed into the ML model\n",
    "9) create a 5 hidden layer model\n",
    "10) Run and test the model"
   ]
  },
  {
   "cell_type": "code",
   "execution_count": 1,
   "metadata": {},
   "outputs": [],
   "source": [
    "import tensorflow as tf\n",
    "import numpy as np\n",
    "import pandas as pd\n",
    "import matplotlib.pyplot as plt\n",
    "from sklearn.utils import shuffle\n",
    "from sklearn import preprocessing\n",
    "from tensorflow.keras.models import Sequential\n",
    "from tensorflow.keras.layers import Dense, Activation"
   ]
  },
  {
   "cell_type": "code",
   "execution_count": 2,
   "metadata": {},
   "outputs": [],
   "source": [
    "filtered_matches = pd.read_csv('V_FILTERED_MATCH_DATA_AND_ODDS.csv', sep=';')\n",
    "\n",
    "filtered_matches.drop('match_id', axis=1, inplace=True)\n",
    "filtered_matches.drop('avg_home_chance', axis=1, inplace=True)\n",
    "filtered_matches.drop('avg_draw_chance', axis=1, inplace=True)\n",
    "\n",
    "match_data = shuffle(filtered_matches)\n",
    "\n",
    "inputs = match_data.iloc[:,:-1]\n",
    "targets = match_data.iloc[:,[-1]]\n",
    "\n",
    "match_data.iloc[:,:-1] = preprocessing.scale(inputs)\n",
    "\n",
    "\n",
    "train_data, validation_data, test_data = np.split(match_data, [int(.8 * len(match_data)), int(.9 * len(match_data))])\n",
    "\n",
    "train_data_inputs, train_data_targets = train_data.iloc[:,:-1], train_data.iloc[:,[-1]]\n",
    "validation_data_inputs, validation_data_targets = validation_data.iloc[:,:-1], validation_data.iloc[:,[-1]]\n",
    "test_data_inputs, test_data_targets = test_data.iloc[:,:-1], test_data.iloc[:,[-1]]\n",
    "\n"
   ]
  },
  {
   "cell_type": "code",
   "execution_count": 3,
   "metadata": {},
   "outputs": [],
   "source": [
    "# determine the maximum number of epochs\n",
    "NUM_EPOCHS = 10"
   ]
  },
  {
   "cell_type": "code",
   "execution_count": 4,
   "metadata": {},
   "outputs": [],
   "source": [
    "np_train_data = train_data.to_numpy()\n",
    "np_val_inputs = validation_data_inputs.to_numpy()\n",
    "np_val_targets = validation_data_targets.to_numpy()"
   ]
  },
  {
   "cell_type": "code",
   "execution_count": 5,
   "metadata": {},
   "outputs": [],
   "source": [
    "##56 inputs\n",
    "#1 output\n",
    "input_size = 56\n",
    "output_size = 1\n",
    "\n",
    "hidden_layer_size = 50\n",
    "\n",
    "model = Sequential([\n",
    "            Dense(hidden_layer_size, input_shape=(56,)),\n",
    "            \n",
    "            Dense(hidden_layer_size, activation='tanh'), # 1st hidden layer\n",
    "            Dense(hidden_layer_size, activation='relu'), # 2nd hidden layer\n",
    "            Dense(hidden_layer_size, activation='relu'), # 3rd hidden layer\n",
    "            Dense(hidden_layer_size, activation='relu'), # 4th hidden layer\n",
    "            Dense(hidden_layer_size, activation='tanh'), # 5th hidden layer\n",
    "    \n",
    "            Dense(output_size, activation='sigmoid') # output layer\n",
    "])\n"
   ]
  },
  {
   "cell_type": "code",
   "execution_count": 6,
   "metadata": {},
   "outputs": [],
   "source": [
    "model.compile(optimizer='adam', loss='mean_absolute_error', metrics=['mean_absolute_error'])"
   ]
  },
  {
   "cell_type": "code",
   "execution_count": 7,
   "metadata": {
    "scrolled": true
   },
   "outputs": [
    {
     "name": "stdout",
     "output_type": "stream",
     "text": [
      "WARNING:tensorflow:Falling back from v2 loop because of error: Failed to find data adapter that can handle input: <class 'pandas.core.frame.DataFrame'>, <class 'NoneType'>\n",
      "Train on 11622 samples, validate on 1453 samples\n",
      "Epoch 1/10\n",
      "11622/11622 - 4s - loss: 0.0643 - mean_absolute_error: 0.0643 - val_loss: 0.0548 - val_mean_absolute_error: 0.0548\n",
      "Epoch 2/10\n",
      "11622/11622 - 4s - loss: 0.0548 - mean_absolute_error: 0.0548 - val_loss: 0.0544 - val_mean_absolute_error: 0.0544\n",
      "Epoch 3/10\n",
      "11622/11622 - 3s - loss: 0.0543 - mean_absolute_error: 0.0543 - val_loss: 0.0527 - val_mean_absolute_error: 0.0527\n",
      "Epoch 4/10\n",
      "11622/11622 - 4s - loss: 0.0527 - mean_absolute_error: 0.0527 - val_loss: 0.0530 - val_mean_absolute_error: 0.0530\n",
      "Epoch 5/10\n",
      "11622/11622 - 4s - loss: 0.0525 - mean_absolute_error: 0.0525 - val_loss: 0.0544 - val_mean_absolute_error: 0.0544\n",
      "Epoch 6/10\n",
      "11622/11622 - 5s - loss: 0.0517 - mean_absolute_error: 0.0517 - val_loss: 0.0512 - val_mean_absolute_error: 0.0512\n",
      "Epoch 7/10\n",
      "11622/11622 - 4s - loss: 0.0510 - mean_absolute_error: 0.0510 - val_loss: 0.0537 - val_mean_absolute_error: 0.0537\n",
      "Epoch 8/10\n",
      "11622/11622 - 4s - loss: 0.0508 - mean_absolute_error: 0.0508 - val_loss: 0.0506 - val_mean_absolute_error: 0.0506\n",
      "Epoch 9/10\n",
      "11622/11622 - 4s - loss: 0.0503 - mean_absolute_error: 0.0503 - val_loss: 0.0507 - val_mean_absolute_error: 0.0507\n",
      "Epoch 10/10\n",
      "11622/11622 - 4s - loss: 0.0503 - mean_absolute_error: 0.0503 - val_loss: 0.0534 - val_mean_absolute_error: 0.0534\n"
     ]
    },
    {
     "data": {
      "text/plain": [
       "<tensorflow.python.keras.callbacks.History at 0x1f2f34986c8>"
      ]
     },
     "execution_count": 7,
     "metadata": {},
     "output_type": "execute_result"
    }
   ],
   "source": [
    "model.fit(x=train_data_inputs, y=train_data_targets, epochs=NUM_EPOCHS, validation_data=(np_val_inputs, np_val_targets), \n",
    "          validation_steps=len(np_val_inputs), verbose=2)"
   ]
  },
  {
   "cell_type": "code",
   "execution_count": 8,
   "metadata": {
    "collapsed": true
   },
   "outputs": [
    {
     "name": "stdout",
     "output_type": "stream",
     "text": [
      "Weights: [[ 0.12735386  0.08076914 -0.1517998  ...  0.0868189   0.03418408\n",
      "   0.11976431]\n",
      " [ 0.00432024 -0.05226181  0.1969868  ... -0.05728327 -0.06328007\n",
      "  -0.10835534]\n",
      " [-0.0157342  -0.15316749 -0.05873314 ... -0.20975208 -0.11809862\n",
      "  -0.11761456]\n",
      " ...\n",
      " [-0.2509967   0.08950213  0.1793398  ...  0.07985525  0.2488518\n",
      "   0.00612446]\n",
      " [ 0.09311803  0.14829226 -0.10724083 ... -0.1070584   0.12281338\n",
      "  -0.25542092]\n",
      " [ 0.05832912 -0.17578146 -0.24933635 ...  0.21987855  0.33965066\n",
      "  -0.27734914]] \n",
      "Bias: [ 0.02500812  0.22834527  0.04662276 -0.0231568   0.04222771  0.07133017\n",
      "  0.04612348  0.1101325   0.01102189  0.20431095 -0.07013229  0.05363092\n",
      " -0.04448056 -0.0566646  -0.09817509 -0.0506188   0.11090074 -0.14473751\n",
      "  0.0228925  -0.03464027  0.06122638 -0.11304903 -0.04114898  0.0231714\n",
      "  0.15037096  0.03952263 -0.11226122 -0.13273135 -0.00894949 -0.0999833\n",
      " -0.01717315 -0.0077774   0.02251551  0.08131626 -0.00848938 -0.09757219\n",
      "  0.11732256  0.10249638  0.06033636 -0.06576779  0.21689846  0.06183994\n",
      " -0.03247822 -0.12964241 -0.15824313 -0.05729497  0.0866349  -0.08489529\n",
      " -0.00319381  0.09310903]\n"
     ]
    }
   ],
   "source": [
    "weights = model.layers[0].get_weights()[0]\n",
    "bias = model.layers[0].get_weights()[1]\n",
    "print('Weights:',weights,'\\nBias:',bias)"
   ]
  },
  {
   "cell_type": "code",
   "execution_count": 9,
   "metadata": {},
   "outputs": [
    {
     "name": "stdout",
     "output_type": "stream",
     "text": [
      "WARNING:tensorflow:Falling back from v2 loop because of error: Failed to find data adapter that can handle input: <class 'pandas.core.frame.DataFrame'>, <class 'NoneType'>\n",
      "1453/1453 - 0s - loss: 0.0562 - mean_absolute_error: 0.0562\n"
     ]
    },
    {
     "data": {
      "text/plain": [
       "[0.05618946172978988, 0.056189466]"
      ]
     },
     "execution_count": 9,
     "metadata": {},
     "output_type": "execute_result"
    }
   ],
   "source": [
    "model.evaluate(x=test_data_inputs, y=test_data_targets, verbose=2)"
   ]
  },
  {
   "cell_type": "code",
   "execution_count": null,
   "metadata": {},
   "outputs": [],
   "source": []
  }
 ],
 "metadata": {
  "kernelspec": {
   "display_name": "Python 3",
   "language": "python",
   "name": "python3"
  },
  "language_info": {
   "codemirror_mode": {
    "name": "ipython",
    "version": 3
   },
   "file_extension": ".py",
   "mimetype": "text/x-python",
   "name": "python",
   "nbconvert_exporter": "python",
   "pygments_lexer": "ipython3",
   "version": "3.7.6"
  }
 },
 "nbformat": 4,
 "nbformat_minor": 4
}
