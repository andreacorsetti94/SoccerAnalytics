{
 "cells": [
  {
   "cell_type": "markdown",
   "metadata": {},
   "source": [
    "# Match Events Populator\n",
    "\n",
    "This module uses the 'Match Events Extractor' module in order to populate the table 'MatchEvent' in our database with\n",
    "the events taken and reelaborated from the 'Match' table."
   ]
  },
  {
   "cell_type": "code",
   "execution_count": 9,
   "metadata": {},
   "outputs": [],
   "source": [
    "import nbimporter\n",
    "import match_events_extractor\n",
    "import db_utils"
   ]
  },
  {
   "cell_type": "code",
   "execution_count": 10,
   "metadata": {},
   "outputs": [],
   "source": [
    "\"\"\"\n",
    "Since not every match has the following attributes populated, for these matches we will use default values.\n",
    "These values represent an average number of occurrences of each event for a given team in a soccer game.\n",
    "\"\"\"\n",
    "\n",
    "DEFAULT_SHOTON = DEFAULT_SHOTOFF = 6\n",
    "DEFAULT_YELLOWS = 2\n",
    "DEFAULT_FOULS = 13\n",
    "DEFAULT_CORNERS = 5\n",
    "DEFAULT_CROSSES = 17\n",
    "DEFAULT_POSSESSION = 50"
   ]
  },
  {
   "cell_type": "code",
   "execution_count": 13,
   "metadata": {},
   "outputs": [],
   "source": [
    "db_file = 'database.sqlite'\n",
    "\n",
    "match_events = []\n",
    "\n",
    "matches = db_utils.query(db_file, 'select * from Match', ())\n",
    "for match in matches:\n",
    "    match_id = match[0]\n",
    "    home = match[7]\n",
    "    away = match[8]\n",
    "    homeG = match[9]\n",
    "    awayG = match[10]\n",
    "    shoton_xml = match[12]\n",
    "    shotoff_xml = match[13]\n",
    "    foulcommit_xml = match[14]\n",
    "    card_xml = match[15]\n",
    "    cross_xml = match[16]\n",
    "    corner_xml = match[17]\n",
    "    possession_xml = match[18]\n",
    "    \n",
    "    home_shoton, away_shoton = match_events_extractor.extract_shoton_from_xml(shoton_xml, str(home), str(away))\n",
    "    if( home_shoton + away_shoton == 0 ):\n",
    "        home_shoton = away_shoton = DEFAULT_SHOTON\n",
    "\n",
    "    home_shotoff, away_shotoff = match_events_extractor.extract_shotoff_from_xml(shotoff_xml, str(home), str(away))\n",
    "    if( home_shotoff + away_shotoff == 0 ):\n",
    "        home_shotoff = away_shotoff = DEFAULT_SHOTOFF\n",
    "\n",
    "    home_yellows, away_yellows = match_events_extractor.extract_yellows_from_xml(card_xml, str(home), str(away))\n",
    "    if( home_yellows + away_yellows == 0 ):\n",
    "        home_yellows = away_yellows = DEFAULT_YELLOWS\n",
    "\n",
    "    home_reds, away_reds = match_events_extractor.extract_reds_from_xml(card_xml, str(home), str(away))\n",
    "\n",
    "    home_fouls, away_fouls = match_events_extractor.extract_fouls_from_xml(foulcommit_xml, str(home), str(away))\n",
    "    if( home_fouls + away_fouls == 0 ):\n",
    "        home_fouls = away_fouls = DEFAULT_FOULS\n",
    "\n",
    "    home_corners, away_corners = match_events_extractor.extract_corners_from_xml(corner_xml, str(home), str(away))\n",
    "    if( home_corners + away_corners == 0 ):\n",
    "        home_corners = away_corners = DEFAULT_CORNERS\n",
    "\n",
    "    home_crosses, away_crosses = match_events_extractor.extract_crosses_from_xml(cross_xml, str(home), str(away))\n",
    "    if( home_crosses + away_crosses == 0 ):\n",
    "        home_crosses = away_crosses = DEFAULT_CROSSES\n",
    "\n",
    "    home_possession, away_possession = match_events_extractor.extract_possession_from_xml(possession_xml)\n",
    "    if( home_possession + away_possession == 0 ):\n",
    "        home_possession = away_possession = DEFAULT_POSSESSION\n",
    "\n",
    "    \n",
    "    match_data = (match_id,homeG,awayG,home_shoton,away_shoton,home_shotoff, away_shotoff, \n",
    "                home_yellows,away_yellows,home_reds,away_reds,home_fouls,away_fouls,home_corners,away_corners,\n",
    "                home_crosses, away_crosses,home_possession,away_possession)\n",
    "    \n",
    "    match_events.append(match_data)"
   ]
  },
  {
   "cell_type": "code",
   "execution_count": 14,
   "metadata": {},
   "outputs": [],
   "source": [
    "#Write the match events in the MatchEvent table\n",
    "sql = 'INSERT INTO MatchEvent VALUES (?,?,?,?,?,?,?,?,?,?,?,?,?,?,?,?,?,?,?)'\n",
    "for item in match_events:\n",
    "    db_utils.write(db_file, sql, item)"
   ]
  }
 ],
 "metadata": {
  "kernelspec": {
   "display_name": "Python 3",
   "language": "python",
   "name": "python3"
  },
  "language_info": {
   "codemirror_mode": {
    "name": "ipython",
    "version": 3
   },
   "file_extension": ".py",
   "mimetype": "text/x-python",
   "name": "python",
   "nbconvert_exporter": "python",
   "pygments_lexer": "ipython3",
   "version": "3.7.6"
  }
 },
 "nbformat": 4,
 "nbformat_minor": 4
}
