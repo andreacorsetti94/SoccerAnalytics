{
 "cells": [
  {
   "cell_type": "markdown",
   "metadata": {},
   "source": [
    "# Model: Draw Percentage"
   ]
  },
  {
   "cell_type": "raw",
   "metadata": {},
   "source": [
    "In this module, we are going to create a Machine Learning module that will:\n",
    "1) parse a csv file into a pandas Dataframe\n",
    "2) drop unnecessary columns\n",
    "3) shuffle the Dataframe\n",
    "4) extract the input columns and the target columns\n",
    "5) scaling (preprocessing) the inputs, so that they get standardized\n",
    "6) split the dataset in three samples: the training data (80%), the validation data (10%) and the testing data (10%)\n",
    "7) from each split dataset, we are going to identify their inputs and targets\n",
    "8) from these split dataset we are going to create numpy objects, so that they can be fed into the ML model\n",
    "9) create a 5 hidden layer model\n",
    "10) Run and test the model"
   ]
  },
  {
   "cell_type": "code",
   "execution_count": 1,
   "metadata": {},
   "outputs": [],
   "source": [
    "import tensorflow as tf\n",
    "import numpy as np\n",
    "import pandas as pd\n",
    "import matplotlib.pyplot as plt\n",
    "from sklearn.utils import shuffle\n",
    "from sklearn import preprocessing\n",
    "from tensorflow.keras.models import Sequential\n",
    "from tensorflow.keras.layers import Dense, Activation"
   ]
  },
  {
   "cell_type": "code",
   "execution_count": 2,
   "metadata": {},
   "outputs": [],
   "source": [
    "filtered_matches = pd.read_csv('V_FILTERED_MATCH_DATA_AND_ODDS.csv', sep=';')\n",
    "\n",
    "filtered_matches.drop('match_id', axis=1, inplace=True)\n",
    "filtered_matches.drop('avg_home_chance', axis=1, inplace=True)\n",
    "filtered_matches.drop('avg_away_chance', axis=1, inplace=True)\n",
    "\n",
    "match_data = shuffle(filtered_matches)\n",
    "\n",
    "inputs = match_data.iloc[:,:-1]\n",
    "targets = match_data.iloc[:,[-1]]\n",
    "\n",
    "match_data.iloc[:,:-1] = preprocessing.scale(inputs)\n",
    "\n",
    "\n",
    "train_data, validation_data, test_data = np.split(match_data, [int(.8 * len(match_data)), int(.9 * len(match_data))])\n",
    "\n",
    "train_data_inputs, train_data_targets = train_data.iloc[:,:-1], train_data.iloc[:,[-1]]\n",
    "validation_data_inputs, validation_data_targets = validation_data.iloc[:,:-1], validation_data.iloc[:,[-1]]\n",
    "test_data_inputs, test_data_targets = test_data.iloc[:,:-1], test_data.iloc[:,[-1]]\n",
    "\n"
   ]
  },
  {
   "cell_type": "code",
   "execution_count": 3,
   "metadata": {},
   "outputs": [],
   "source": [
    "# determine the maximum number of epochs\n",
    "NUM_EPOCHS = 10"
   ]
  },
  {
   "cell_type": "code",
   "execution_count": 4,
   "metadata": {},
   "outputs": [],
   "source": [
    "np_train_data = train_data.to_numpy()\n",
    "np_val_inputs = validation_data_inputs.to_numpy()\n",
    "np_val_targets = validation_data_targets.to_numpy()"
   ]
  },
  {
   "cell_type": "code",
   "execution_count": 5,
   "metadata": {},
   "outputs": [],
   "source": [
    "##56 inputs\n",
    "#1 output\n",
    "input_size = 56\n",
    "output_size = 1\n",
    "\n",
    "hidden_layer_size = 50\n",
    "\n",
    "model = Sequential([\n",
    "            Dense(hidden_layer_size, input_shape=(56,)),\n",
    "            \n",
    "            Dense(hidden_layer_size, activation='tanh'), # 1st hidden layer\n",
    "            Dense(hidden_layer_size, activation='relu'), # 2nd hidden layer\n",
    "            Dense(hidden_layer_size, activation='relu'), # 3rd hidden layer\n",
    "            Dense(hidden_layer_size, activation='relu'), # 4th hidden layer\n",
    "            Dense(hidden_layer_size, activation='tanh'), # 5th hidden layer\n",
    "    \n",
    "            Dense(output_size, activation='sigmoid') # output layer\n",
    "])\n"
   ]
  },
  {
   "cell_type": "code",
   "execution_count": 6,
   "metadata": {},
   "outputs": [],
   "source": [
    "model.compile(optimizer='adam', loss='mean_absolute_error', metrics=['mean_absolute_error'])"
   ]
  },
  {
   "cell_type": "code",
   "execution_count": 7,
   "metadata": {
    "scrolled": true
   },
   "outputs": [
    {
     "name": "stdout",
     "output_type": "stream",
     "text": [
      "WARNING:tensorflow:Falling back from v2 loop because of error: Failed to find data adapter that can handle input: <class 'pandas.core.frame.DataFrame'>, <class 'NoneType'>\n",
      "Train on 11622 samples, validate on 1453 samples\n",
      "Epoch 1/10\n",
      "11622/11622 - 4s - loss: 0.0289 - mean_absolute_error: 0.0289 - val_loss: 0.0204 - val_mean_absolute_error: 0.0204\n",
      "Epoch 2/10\n",
      "11622/11622 - 3s - loss: 0.0203 - mean_absolute_error: 0.0203 - val_loss: 0.0201 - val_mean_absolute_error: 0.0201\n",
      "Epoch 3/10\n",
      "11622/11622 - 3s - loss: 0.0194 - mean_absolute_error: 0.0194 - val_loss: 0.0190 - val_mean_absolute_error: 0.0190\n",
      "Epoch 4/10\n",
      "11622/11622 - 3s - loss: 0.0191 - mean_absolute_error: 0.0191 - val_loss: 0.0186 - val_mean_absolute_error: 0.0186\n",
      "Epoch 5/10\n",
      "11622/11622 - 4s - loss: 0.0186 - mean_absolute_error: 0.0186 - val_loss: 0.0194 - val_mean_absolute_error: 0.0194\n",
      "Epoch 6/10\n",
      "11622/11622 - 5s - loss: 0.0183 - mean_absolute_error: 0.0183 - val_loss: 0.0187 - val_mean_absolute_error: 0.0187\n",
      "Epoch 7/10\n",
      "11622/11622 - 4s - loss: 0.0180 - mean_absolute_error: 0.0180 - val_loss: 0.0184 - val_mean_absolute_error: 0.0184\n",
      "Epoch 8/10\n",
      "11622/11622 - 4s - loss: 0.0178 - mean_absolute_error: 0.0178 - val_loss: 0.0186 - val_mean_absolute_error: 0.0186\n",
      "Epoch 9/10\n",
      "11622/11622 - 4s - loss: 0.0178 - mean_absolute_error: 0.0178 - val_loss: 0.0179 - val_mean_absolute_error: 0.0179\n",
      "Epoch 10/10\n",
      "11622/11622 - 5s - loss: 0.0178 - mean_absolute_error: 0.0178 - val_loss: 0.0182 - val_mean_absolute_error: 0.0182\n"
     ]
    },
    {
     "data": {
      "text/plain": [
       "<tensorflow.python.keras.callbacks.History at 0x1671f6c6fc8>"
      ]
     },
     "execution_count": 7,
     "metadata": {},
     "output_type": "execute_result"
    }
   ],
   "source": [
    "model.fit(x=train_data_inputs, y=train_data_targets, epochs=NUM_EPOCHS, validation_data=(np_val_inputs, np_val_targets), \n",
    "          validation_steps=len(np_val_inputs), verbose=2)"
   ]
  },
  {
   "cell_type": "code",
   "execution_count": 8,
   "metadata": {},
   "outputs": [
    {
     "name": "stdout",
     "output_type": "stream",
     "text": [
      "Weights: [[ 0.10388693  0.24279061 -0.01504399 ... -0.0825574   0.00635989\n",
      "  -0.10064153]\n",
      " [-0.22230203  0.21765487  0.1815826  ... -0.13047081  0.09688583\n",
      "  -0.18554786]\n",
      " [-0.06198262 -0.02685416 -0.25947735 ...  0.18992311 -0.11955694\n",
      "  -0.16059868]\n",
      " ...\n",
      " [-0.14838268 -0.19496898  0.01706151 ... -0.17905974 -0.15052901\n",
      "   0.06941277]\n",
      " [ 0.09872416  0.2503076  -0.06050095 ...  0.23690121  0.14080322\n",
      "   0.1947692 ]\n",
      " [-0.29799613 -0.20580654 -0.2227571  ... -0.05833258 -0.1148632\n",
      "   0.06743816]] \n",
      "Bias: [-0.1683362  -0.1316827  -0.06758738 -0.00444329  0.09384669 -0.00834655\n",
      "  0.13494486 -0.0692472   0.18227772  0.02011504 -0.13464421 -0.02466296\n",
      " -0.0873442  -0.0471939   0.16037095  0.08087379 -0.04079102 -0.04480609\n",
      "  0.08442058 -0.03173761  0.14703475  0.0031235   0.01236831  0.04070292\n",
      " -0.00492287 -0.00047396 -0.06400999  0.01365006 -0.00592786  0.02138147\n",
      "  0.09924943 -0.04445203 -0.07675245  0.04186434 -0.00199742  0.14489253\n",
      "  0.10026147  0.22814535  0.0591078   0.01821437 -0.24391304  0.05338292\n",
      " -0.14724557 -0.03912301  0.06794026 -0.0413105  -0.10591378 -0.06193761\n",
      "  0.13129959 -0.18734647]\n"
     ]
    }
   ],
   "source": [
    "weights = model.layers[0].get_weights()[0]\n",
    "bias = model.layers[0].get_weights()[1]\n",
    "print('Weights:',weights,'\\nBias:',bias)"
   ]
  },
  {
   "cell_type": "code",
   "execution_count": 9,
   "metadata": {},
   "outputs": [
    {
     "name": "stdout",
     "output_type": "stream",
     "text": [
      "WARNING:tensorflow:Falling back from v2 loop because of error: Failed to find data adapter that can handle input: <class 'pandas.core.frame.DataFrame'>, <class 'NoneType'>\n",
      "1453/1453 - 0s - loss: 0.0172 - mean_absolute_error: 0.0172\n"
     ]
    },
    {
     "data": {
      "text/plain": [
       "[0.017204361362030237, 0.017204363]"
      ]
     },
     "execution_count": 9,
     "metadata": {},
     "output_type": "execute_result"
    }
   ],
   "source": [
    "model.evaluate(x=test_data_inputs, y=test_data_targets, verbose=2)"
   ]
  }
 ],
 "metadata": {
  "kernelspec": {
   "display_name": "Python 3",
   "language": "python",
   "name": "python3"
  },
  "language_info": {
   "codemirror_mode": {
    "name": "ipython",
    "version": 3
   },
   "file_extension": ".py",
   "mimetype": "text/x-python",
   "name": "python",
   "nbconvert_exporter": "python",
   "pygments_lexer": "ipython3",
   "version": "3.7.6"
  }
 },
 "nbformat": 4,
 "nbformat_minor": 4
}
