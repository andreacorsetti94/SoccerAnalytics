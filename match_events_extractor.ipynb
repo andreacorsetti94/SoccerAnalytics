{
 "cells": [
  {
   "cell_type": "markdown",
   "metadata": {},
   "source": [
    "# Match Events Extractor\n",
    "\n",
    "This module is created to extract match events such as goals, shot on targets, fouls, etc.. from xml string stored in \n",
    "the Match table.\n",
    "Every method exposed in this module returns a pair (x,y) where x is the number of events for the home team and y is \n",
    "the number of events for the away team.\n",
    "Every xml_string taken in input refers to the events occured in one single game."
   ]
  },
  {
   "cell_type": "code",
   "execution_count": 1,
   "metadata": {},
   "outputs": [],
   "source": [
    "import lxml.etree as ET"
   ]
  },
  {
   "cell_type": "code",
   "execution_count": 2,
   "metadata": {},
   "outputs": [],
   "source": [
    "def extract_generic_event_from_xml(xml_string, home_id, away_id):\n",
    "    if ( xml_string == None ): return (0,0)\n",
    "    home_event = 0\n",
    "    away_event = 0\n",
    "    \n",
    "    parser = ET.XMLParser(recover=True)\n",
    "    root = ET.fromstring(xml_string, parser=parser)\n",
    "    for tag in root.findall('value'):\n",
    "        teamtag = tag.find('team')\n",
    "        if ( teamtag == None ): continue\n",
    "        team = teamtag.text\n",
    "        if ( team == home_id ): home_event += 1\n",
    "        if ( team == away_id ): away_event += 1\n",
    "    return home_event, away_event"
   ]
  },
  {
   "cell_type": "code",
   "execution_count": 3,
   "metadata": {},
   "outputs": [],
   "source": [
    "def extract_goals_from_xml(xml_string, home_id, away_id):\n",
    "    return extract_generic_event_from_xml(xml_string, home_id, away_id)"
   ]
  },
  {
   "cell_type": "code",
   "execution_count": 5,
   "metadata": {},
   "outputs": [],
   "source": [
    "def extract_shoton_from_xml(xml_string, home_id, away_id):\n",
    "    return extract_generic_event_from_xml(xml_string, home_id, away_id)"
   ]
  },
  {
   "cell_type": "code",
   "execution_count": 7,
   "metadata": {},
   "outputs": [],
   "source": [
    "def extract_shotoff_from_xml(xml_string, home_id, away_id):\n",
    "    return extract_generic_event_from_xml(xml_string, home_id, away_id)"
   ]
  },
  {
   "cell_type": "code",
   "execution_count": 9,
   "metadata": {},
   "outputs": [],
   "source": [
    "def extract_fouls_from_xml(xml_string, home_id, away_id):\n",
    "    return extract_generic_event_from_xml(xml_string, home_id, away_id)"
   ]
  },
  {
   "cell_type": "code",
   "execution_count": 11,
   "metadata": {},
   "outputs": [],
   "source": [
    "def extract_crosses_from_xml(xml_string, home_id, away_id):\n",
    "    return extract_generic_event_from_xml(xml_string, home_id, away_id)"
   ]
  },
  {
   "cell_type": "code",
   "execution_count": 13,
   "metadata": {},
   "outputs": [],
   "source": [
    "def extract_corners_from_xml(xml_string, home_id, away_id):\n",
    "    return extract_generic_event_from_xml(xml_string, home_id, away_id)"
   ]
  },
  {
   "cell_type": "code",
   "execution_count": 15,
   "metadata": {},
   "outputs": [],
   "source": [
    "def extract_yellows_from_xml(xml_string, home_id, away_id):\n",
    "    if ( xml_string == None ): return (0,0)\n",
    "    home_yellow = 0\n",
    "    away_yellow = 0\n",
    "    \n",
    "    parser = ET.XMLParser(recover=True)\n",
    "    root = ET.fromstring(xml_string, parser=parser)\n",
    "    for tag in root.findall('value'):\n",
    "        tag_team = tag.find('team')\n",
    "        card_type_tag = tag.find('card_type')\n",
    "        if ( tag_team == None or card_type_tag == None):\n",
    "            continue\n",
    "        team = tag_team.text\n",
    "        card_type = card_type_tag.text\n",
    "        if ( (card_type == 'y' or card_type == 'y2') and team == home_id ): home_yellow += 1\n",
    "        if ( (card_type == 'y' or card_type == 'y2') and team == away_id ): away_yellow += 1\n",
    "    return home_yellow, away_yellow"
   ]
  },
  {
   "cell_type": "code",
   "execution_count": 18,
   "metadata": {},
   "outputs": [],
   "source": [
    "def extract_reds_from_xml(xml_string, home_id, away_id):\n",
    "    if ( xml_string == None ): return (0,0)\n",
    "    home_reds = 0\n",
    "    away_reds = 0\n",
    "    \n",
    "    parser = ET.XMLParser(recover=True)\n",
    "    root = ET.fromstring(xml_string, parser=parser)\n",
    "    for tag in root.findall('value'):\n",
    "        tag_team = tag.find('team')\n",
    "        card_type_tag = tag.find('card_type')\n",
    "        if ( tag_team == None or card_type_tag == None):\n",
    "            continue\n",
    "        team = tag_team.text\n",
    "        card_type = card_type_tag.text\n",
    "        if ( card_type == 'r' and team == home_id ): home_reds += 1\n",
    "        if ( card_type == 'r' and team == away_id ): away_reds += 1\n",
    "    return home_reds, away_reds"
   ]
  },
  {
   "cell_type": "code",
   "execution_count": 20,
   "metadata": {},
   "outputs": [],
   "source": [
    "def extract_possession_from_xml(xml_string):\n",
    "    if ( xml_string == None ): return (0,0)\n",
    "    home_possession = 0\n",
    "    away_possession = 0\n",
    "    \n",
    "    parser = ET.XMLParser(recover=True)\n",
    "    root = ET.fromstring(xml_string, parser=parser)\n",
    "    for tag in root.findall('value'):\n",
    "        tag_elapsed = tag.find('elapsed')\n",
    "        tag_homepos = tag.find('homepos')\n",
    "        tag_awaypos = tag.find('awaypos')\n",
    "        if ( tag_elapsed == None or tag_homepos == None or tag_awaypos == None ):\n",
    "            continue\n",
    "        \n",
    "        elapsed = tag_elapsed.text\n",
    "        if( int(elapsed) == 90 ):\n",
    "            home_possession = int(tag_homepos.text)\n",
    "            away_possession = int(tag_awaypos.text)\n",
    "            break\n",
    "    return home_possession, away_possession"
   ]
  }
 ],
 "metadata": {
  "kernelspec": {
   "display_name": "Python 3",
   "language": "python",
   "name": "python3"
  },
  "language_info": {
   "codemirror_mode": {
    "name": "ipython",
    "version": 3
   },
   "file_extension": ".py",
   "mimetype": "text/x-python",
   "name": "python",
   "nbconvert_exporter": "python",
   "pygments_lexer": "ipython3",
   "version": "3.7.6"
  }
 },
 "nbformat": 4,
 "nbformat_minor": 4
}
